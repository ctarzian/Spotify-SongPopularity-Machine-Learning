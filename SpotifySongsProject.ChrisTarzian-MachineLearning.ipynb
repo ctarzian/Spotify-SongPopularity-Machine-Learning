{
 "cells": [
  {
   "cell_type": "markdown",
   "id": "43ce93c1",
   "metadata": {},
   "source": [
    "# Predicting Whether a Spotify Song is Popular or Not\n",
    "### Chris Tarzian\n",
    "### https://www.kaggle.com/datasets/danield2255/data-on-songs-from-billboard-19992019"
   ]
  },
  {
   "cell_type": "code",
   "execution_count": 55,
   "id": "b0e7a409",
   "metadata": {},
   "outputs": [],
   "source": [
    "import pandas as pd\n",
    "import numpy as np\n",
    "import re\n",
    "\n",
    "import nltk\n",
    "\n",
    "from sklearn import preprocessing\n",
    "from sklearn.preprocessing import StandardScaler\n",
    "from sklearn.model_selection import train_test_split\n",
    "from sklearn import svm\n",
    "from sklearn.svm import SVC\n",
    "from sklearn.ensemble import RandomForestClassifier\n",
    "from sklearn.linear_model import LogisticRegression\n",
    "from imblearn.ensemble import BalancedRandomForestClassifier\n",
    "import xgboost as xgb\n",
    "\n",
    "from sklearn.metrics import classification_report, confusion_matrix, accuracy_score\n",
    "from sklearn.datasets import make_classification\n",
    "\n",
    "from numpy import mean\n",
    "from sklearn.model_selection import cross_val_score\n",
    "from sklearn.model_selection import cross_validate\n",
    "from sklearn.model_selection import RepeatedStratifiedKFold\n",
    "from sklearn.metrics import plot_confusion_matrix\n",
    "\n",
    "from sklearn.model_selection import train_test_split\n",
    "from sklearn.pipeline import Pipeline\n",
    "from imblearn.pipeline import Pipeline\n",
    "from imblearn.over_sampling import SMOTE\n",
    "import warnings\n",
    "warnings.simplefilter(action='ignore', category=FutureWarning)"
   ]
  },
  {
   "cell_type": "code",
   "execution_count": 56,
   "id": "3d2ca302",
   "metadata": {},
   "outputs": [],
   "source": [
    "class color:\n",
    "   PURPLE = '\\033[95m'\n",
    "   CYAN = '\\033[96m'\n",
    "   DARKCYAN = '\\033[36m'\n",
    "   BLUE = '\\033[94m'\n",
    "   GREEN = '\\033[92m'\n",
    "   YELLOW = '\\033[93m'\n",
    "   RED = '\\033[91m'\n",
    "   BOLD = '\\033[1m'\n",
    "   UNDERLINE = '\\033[4m'\n",
    "   END = '\\033[0m'"
   ]
  },
  {
   "cell_type": "code",
   "execution_count": 102,
   "id": "9f34a3ee",
   "metadata": {},
   "outputs": [],
   "source": [
    "spotifydf1 = pd.read_csv(\"spotifydataset_1999_2019.csv\", index_col=False)"
   ]
  },
  {
   "cell_type": "markdown",
   "id": "7c491e01",
   "metadata": {},
   "source": [
    "## Data Processing"
   ]
  },
  {
   "cell_type": "code",
   "execution_count": 103,
   "id": "7ab9141f",
   "metadata": {},
   "outputs": [],
   "source": [
    "spotifydf = spotifydf1\n",
    "spotifydf = spotifydf.drop(columns={'Unnamed: 0'})"
   ]
  },
  {
   "cell_type": "code",
   "execution_count": 104,
   "id": "fad698a8",
   "metadata": {},
   "outputs": [],
   "source": [
    "spotifydf['Explicit'] = spotifydf['Explicit'].map({True: 0, False: 1})"
   ]
  },
  {
   "cell_type": "code",
   "execution_count": 106,
   "id": "5a9a6bbb",
   "metadata": {},
   "outputs": [],
   "source": [
    "spotifydf.drop_duplicates(inplace=True)"
   ]
  },
  {
   "cell_type": "code",
   "execution_count": 108,
   "id": "47310598",
   "metadata": {},
   "outputs": [
    {
     "name": "stdout",
     "output_type": "stream",
     "text": [
      "Popularity Mean Score: 20.249895110537356\n"
     ]
    }
   ],
   "source": [
    "print(\"Popularity Mean Score:\", spotifydf.Popularity.mean())"
   ]
  },
  {
   "cell_type": "code",
   "execution_count": 61,
   "id": "4b56ec5c",
   "metadata": {},
   "outputs": [
    {
     "data": {
      "text/plain": [
       "0     12581\n",
       "1      5533\n",
       "2      5156\n",
       "3      4950\n",
       "4      4353\n",
       "      ...  \n",
       "85        3\n",
       "91        3\n",
       "88        2\n",
       "89        2\n",
       "90        1\n",
       "Name: Popularity, Length: 92, dtype: int64"
      ]
     },
     "execution_count": 61,
     "metadata": {},
     "output_type": "execute_result"
    }
   ],
   "source": [
    "spotifydf.Popularity.value_counts()"
   ]
  },
  {
   "cell_type": "code",
   "execution_count": 62,
   "id": "6cded6b1",
   "metadata": {},
   "outputs": [],
   "source": [
    "spotifydf = spotifydf.loc[(spotifydf['Popularity'] > 5) & (spotifydf['Popularity']  <= 81)]"
   ]
  },
  {
   "cell_type": "code",
   "execution_count": 63,
   "id": "75e06143",
   "metadata": {},
   "outputs": [
    {
     "data": {
      "text/plain": [
       "6     3593\n",
       "8     3549\n",
       "10    3527\n",
       "7     3509\n",
       "9     3493\n",
       "      ... \n",
       "77      53\n",
       "78      35\n",
       "79      32\n",
       "81      25\n",
       "80      20\n",
       "Name: Popularity, Length: 76, dtype: int64"
      ]
     },
     "execution_count": 63,
     "metadata": {},
     "output_type": "execute_result"
    }
   ],
   "source": [
    "spotifydf.Popularity.value_counts()"
   ]
  },
  {
   "cell_type": "code",
   "execution_count": 64,
   "id": "b816880e",
   "metadata": {},
   "outputs": [],
   "source": [
    "## song considered popular if score greater than or equal to 50, score of 1\n",
    "## song considered non-popular if score less than 50, score of 0\n",
    "\n",
    "def pop_code(row):  \n",
    "    if row['Popularity'] < 50:\n",
    "        return 0\n",
    "    elif row['Popularity'] >= 50:\n",
    "        return 1"
   ]
  },
  {
   "cell_type": "code",
   "execution_count": 65,
   "id": "5847d918",
   "metadata": {},
   "outputs": [],
   "source": [
    "spotifydf['Popularity_Type'] = spotifydf.apply(lambda row: pop_code(row), axis=1)"
   ]
  },
  {
   "cell_type": "code",
   "execution_count": 66,
   "id": "4bf46b5f",
   "metadata": {},
   "outputs": [],
   "source": [
    "spotifydf = spotifydf[['Name','Artist', 'Album', 'Popularity_Type', 'Acousticness','Danceability', 'Duration', 'Energy', 'Explicit','Instrumentalness', 'Liveness', 'Loudness', 'Mode', 'Speechiness', 'Tempo', 'TimeSignature', 'Valence']]"
   ]
  },
  {
   "cell_type": "code",
   "execution_count": 67,
   "id": "1263679a",
   "metadata": {},
   "outputs": [
    {
     "data": {
      "text/html": [
       "<div>\n",
       "<style scoped>\n",
       "    .dataframe tbody tr th:only-of-type {\n",
       "        vertical-align: middle;\n",
       "    }\n",
       "\n",
       "    .dataframe tbody tr th {\n",
       "        vertical-align: top;\n",
       "    }\n",
       "\n",
       "    .dataframe thead th {\n",
       "        text-align: right;\n",
       "    }\n",
       "</style>\n",
       "<table border=\"1\" class=\"dataframe\">\n",
       "  <thead>\n",
       "    <tr style=\"text-align: right;\">\n",
       "      <th></th>\n",
       "      <th>Name</th>\n",
       "      <th>Artist</th>\n",
       "      <th>Album</th>\n",
       "      <th>Popularity_Type</th>\n",
       "      <th>Acousticness</th>\n",
       "      <th>Danceability</th>\n",
       "      <th>Duration</th>\n",
       "      <th>Energy</th>\n",
       "      <th>Explicit</th>\n",
       "      <th>Instrumentalness</th>\n",
       "      <th>Liveness</th>\n",
       "      <th>Loudness</th>\n",
       "      <th>Mode</th>\n",
       "      <th>Speechiness</th>\n",
       "      <th>Tempo</th>\n",
       "      <th>TimeSignature</th>\n",
       "      <th>Valence</th>\n",
       "    </tr>\n",
       "  </thead>\n",
       "  <tbody>\n",
       "    <tr>\n",
       "      <th>0</th>\n",
       "      <td>Welcome All Again</td>\n",
       "      <td>Collective Soul</td>\n",
       "      <td>Collective Soul (Deluxe Version)</td>\n",
       "      <td>0</td>\n",
       "      <td>0.000728</td>\n",
       "      <td>0.520</td>\n",
       "      <td>234947</td>\n",
       "      <td>0.904</td>\n",
       "      <td>1</td>\n",
       "      <td>0.010300</td>\n",
       "      <td>0.0634</td>\n",
       "      <td>-5.030</td>\n",
       "      <td>1</td>\n",
       "      <td>0.0309</td>\n",
       "      <td>106.022</td>\n",
       "      <td>4</td>\n",
       "      <td>0.365</td>\n",
       "    </tr>\n",
       "    <tr>\n",
       "      <th>1</th>\n",
       "      <td>Fuzzy</td>\n",
       "      <td>Collective Soul</td>\n",
       "      <td>Collective Soul (Deluxe Version)</td>\n",
       "      <td>0</td>\n",
       "      <td>0.018200</td>\n",
       "      <td>0.581</td>\n",
       "      <td>239573</td>\n",
       "      <td>0.709</td>\n",
       "      <td>1</td>\n",
       "      <td>0.000664</td>\n",
       "      <td>0.1740</td>\n",
       "      <td>-4.909</td>\n",
       "      <td>1</td>\n",
       "      <td>0.0282</td>\n",
       "      <td>120.027</td>\n",
       "      <td>4</td>\n",
       "      <td>0.408</td>\n",
       "    </tr>\n",
       "    <tr>\n",
       "      <th>2</th>\n",
       "      <td>Dig</td>\n",
       "      <td>Collective Soul</td>\n",
       "      <td>Collective Soul (Deluxe Version)</td>\n",
       "      <td>0</td>\n",
       "      <td>0.000473</td>\n",
       "      <td>0.572</td>\n",
       "      <td>198400</td>\n",
       "      <td>0.918</td>\n",
       "      <td>1</td>\n",
       "      <td>0.000431</td>\n",
       "      <td>0.0977</td>\n",
       "      <td>-3.324</td>\n",
       "      <td>0</td>\n",
       "      <td>0.0559</td>\n",
       "      <td>144.061</td>\n",
       "      <td>4</td>\n",
       "      <td>0.370</td>\n",
       "    </tr>\n",
       "    <tr>\n",
       "      <th>3</th>\n",
       "      <td>You</td>\n",
       "      <td>Collective Soul</td>\n",
       "      <td>Collective Soul (Deluxe Version)</td>\n",
       "      <td>0</td>\n",
       "      <td>0.000970</td>\n",
       "      <td>0.596</td>\n",
       "      <td>231453</td>\n",
       "      <td>0.661</td>\n",
       "      <td>1</td>\n",
       "      <td>0.000033</td>\n",
       "      <td>0.1130</td>\n",
       "      <td>-5.051</td>\n",
       "      <td>1</td>\n",
       "      <td>0.0254</td>\n",
       "      <td>111.975</td>\n",
       "      <td>4</td>\n",
       "      <td>0.183</td>\n",
       "    </tr>\n",
       "    <tr>\n",
       "      <th>4</th>\n",
       "      <td>My Days</td>\n",
       "      <td>Collective Soul</td>\n",
       "      <td>Collective Soul (Deluxe Version)</td>\n",
       "      <td>0</td>\n",
       "      <td>0.000036</td>\n",
       "      <td>0.520</td>\n",
       "      <td>222520</td>\n",
       "      <td>0.808</td>\n",
       "      <td>1</td>\n",
       "      <td>0.000010</td>\n",
       "      <td>0.0800</td>\n",
       "      <td>-4.553</td>\n",
       "      <td>0</td>\n",
       "      <td>0.0318</td>\n",
       "      <td>92.721</td>\n",
       "      <td>4</td>\n",
       "      <td>0.666</td>\n",
       "    </tr>\n",
       "  </tbody>\n",
       "</table>\n",
       "</div>"
      ],
      "text/plain": [
       "                Name           Artist                             Album  \\\n",
       "0  Welcome All Again  Collective Soul  Collective Soul (Deluxe Version)   \n",
       "1              Fuzzy  Collective Soul  Collective Soul (Deluxe Version)   \n",
       "2                Dig  Collective Soul  Collective Soul (Deluxe Version)   \n",
       "3                You  Collective Soul  Collective Soul (Deluxe Version)   \n",
       "4            My Days  Collective Soul  Collective Soul (Deluxe Version)   \n",
       "\n",
       "   Popularity_Type  Acousticness  Danceability  Duration  Energy  Explicit  \\\n",
       "0                0      0.000728         0.520    234947   0.904         1   \n",
       "1                0      0.018200         0.581    239573   0.709         1   \n",
       "2                0      0.000473         0.572    198400   0.918         1   \n",
       "3                0      0.000970         0.596    231453   0.661         1   \n",
       "4                0      0.000036         0.520    222520   0.808         1   \n",
       "\n",
       "   Instrumentalness  Liveness  Loudness  Mode  Speechiness    Tempo  \\\n",
       "0          0.010300    0.0634    -5.030     1       0.0309  106.022   \n",
       "1          0.000664    0.1740    -4.909     1       0.0282  120.027   \n",
       "2          0.000431    0.0977    -3.324     0       0.0559  144.061   \n",
       "3          0.000033    0.1130    -5.051     1       0.0254  111.975   \n",
       "4          0.000010    0.0800    -4.553     0       0.0318   92.721   \n",
       "\n",
       "   TimeSignature  Valence  \n",
       "0              4    0.365  \n",
       "1              4    0.408  \n",
       "2              4    0.370  \n",
       "3              4    0.183  \n",
       "4              4    0.666  "
      ]
     },
     "execution_count": 67,
     "metadata": {},
     "output_type": "execute_result"
    }
   ],
   "source": [
    "spotifydf.head()"
   ]
  },
  {
   "cell_type": "code",
   "execution_count": 68,
   "id": "15316aaf",
   "metadata": {},
   "outputs": [
    {
     "data": {
      "text/plain": [
       "0    108884\n",
       "1      9558\n",
       "Name: Popularity_Type, dtype: int64"
      ]
     },
     "execution_count": 68,
     "metadata": {},
     "output_type": "execute_result"
    }
   ],
   "source": [
    "spotifydf.Popularity_Type.value_counts()"
   ]
  },
  {
   "cell_type": "code",
   "execution_count": 69,
   "id": "fc80cba0",
   "metadata": {},
   "outputs": [
    {
     "data": {
      "image/png": "[encoded data removed]",
      "text/plain": [
       "<Figure size 432x288 with 1 Axes>"
      ]
     },
     "metadata": {
      "needs_background": "light"
     },
     "output_type": "display_data"
    }
   ],
   "source": [
    "spotifydf.Popularity_Type.value_counts().plot(kind='bar', title = 'Popularity Type Distribution', color = 'purple');"
   ]
  },
  {
   "cell_type": "code",
   "execution_count": 70,
   "id": "b94a2acd",
   "metadata": {},
   "outputs": [
    {
     "data": {
      "text/html": [
       "<div>\n",
       "<style scoped>\n",
       "    .dataframe tbody tr th:only-of-type {\n",
       "        vertical-align: middle;\n",
       "    }\n",
       "\n",
       "    .dataframe tbody tr th {\n",
       "        vertical-align: top;\n",
       "    }\n",
       "\n",
       "    .dataframe thead th {\n",
       "        text-align: right;\n",
       "    }\n",
       "</style>\n",
       "<table border=\"1\" class=\"dataframe\">\n",
       "  <thead>\n",
       "    <tr style=\"text-align: right;\">\n",
       "      <th></th>\n",
       "      <th>Popularity_Type</th>\n",
       "      <th>Acousticness</th>\n",
       "      <th>Danceability</th>\n",
       "      <th>Duration</th>\n",
       "      <th>Energy</th>\n",
       "      <th>Explicit</th>\n",
       "      <th>Instrumentalness</th>\n",
       "      <th>Liveness</th>\n",
       "      <th>Loudness</th>\n",
       "      <th>Mode</th>\n",
       "      <th>Speechiness</th>\n",
       "      <th>Tempo</th>\n",
       "      <th>TimeSignature</th>\n",
       "      <th>Valence</th>\n",
       "    </tr>\n",
       "  </thead>\n",
       "  <tbody>\n",
       "    <tr>\n",
       "      <th>Popularity_Type</th>\n",
       "      <td>1.000000</td>\n",
       "      <td>-0.052349</td>\n",
       "      <td>0.031074</td>\n",
       "      <td>0.008887</td>\n",
       "      <td>0.037893</td>\n",
       "      <td>-0.039797</td>\n",
       "      <td>-0.030834</td>\n",
       "      <td>-0.069750</td>\n",
       "      <td>0.077043</td>\n",
       "      <td>-0.019031</td>\n",
       "      <td>-0.032319</td>\n",
       "      <td>0.017065</td>\n",
       "      <td>0.017765</td>\n",
       "      <td>-0.005839</td>\n",
       "    </tr>\n",
       "    <tr>\n",
       "      <th>Acousticness</th>\n",
       "      <td>-0.052349</td>\n",
       "      <td>1.000000</td>\n",
       "      <td>-0.218938</td>\n",
       "      <td>-0.149520</td>\n",
       "      <td>-0.691651</td>\n",
       "      <td>0.174251</td>\n",
       "      <td>0.022101</td>\n",
       "      <td>-0.009319</td>\n",
       "      <td>-0.572643</td>\n",
       "      <td>0.092203</td>\n",
       "      <td>-0.048950</td>\n",
       "      <td>-0.154225</td>\n",
       "      <td>-0.195964</td>\n",
       "      <td>-0.191688</td>\n",
       "    </tr>\n",
       "    <tr>\n",
       "      <th>Danceability</th>\n",
       "      <td>0.031074</td>\n",
       "      <td>-0.218938</td>\n",
       "      <td>1.000000</td>\n",
       "      <td>-0.060863</td>\n",
       "      <td>0.105557</td>\n",
       "      <td>-0.273213</td>\n",
       "      <td>-0.138431</td>\n",
       "      <td>-0.216576</td>\n",
       "      <td>0.166066</td>\n",
       "      <td>-0.091423</td>\n",
       "      <td>0.200288</td>\n",
       "      <td>-0.123616</td>\n",
       "      <td>0.177599</td>\n",
       "      <td>0.470675</td>\n",
       "    </tr>\n",
       "    <tr>\n",
       "      <th>Duration</th>\n",
       "      <td>0.008887</td>\n",
       "      <td>-0.149520</td>\n",
       "      <td>-0.060863</td>\n",
       "      <td>1.000000</td>\n",
       "      <td>0.082833</td>\n",
       "      <td>0.047615</td>\n",
       "      <td>0.105683</td>\n",
       "      <td>0.099539</td>\n",
       "      <td>0.067253</td>\n",
       "      <td>-0.050914</td>\n",
       "      <td>-0.109970</td>\n",
       "      <td>0.015263</td>\n",
       "      <td>0.030449</td>\n",
       "      <td>-0.160839</td>\n",
       "    </tr>\n",
       "    <tr>\n",
       "      <th>Energy</th>\n",
       "      <td>0.037893</td>\n",
       "      <td>-0.691651</td>\n",
       "      <td>0.105557</td>\n",
       "      <td>0.082833</td>\n",
       "      <td>1.000000</td>\n",
       "      <td>-0.125014</td>\n",
       "      <td>-0.042796</td>\n",
       "      <td>0.172232</td>\n",
       "      <td>0.757071</td>\n",
       "      <td>-0.083141</td>\n",
       "      <td>0.096183</td>\n",
       "      <td>0.192297</td>\n",
       "      <td>0.200323</td>\n",
       "      <td>0.338542</td>\n",
       "    </tr>\n",
       "    <tr>\n",
       "      <th>Explicit</th>\n",
       "      <td>-0.039797</td>\n",
       "      <td>0.174251</td>\n",
       "      <td>-0.273213</td>\n",
       "      <td>0.047615</td>\n",
       "      <td>-0.125014</td>\n",
       "      <td>1.000000</td>\n",
       "      <td>0.118205</td>\n",
       "      <td>-0.010444</td>\n",
       "      <td>-0.131981</td>\n",
       "      <td>0.120310</td>\n",
       "      <td>-0.502438</td>\n",
       "      <td>0.035712</td>\n",
       "      <td>-0.073798</td>\n",
       "      <td>-0.059177</td>\n",
       "    </tr>\n",
       "    <tr>\n",
       "      <th>Instrumentalness</th>\n",
       "      <td>-0.030834</td>\n",
       "      <td>0.022101</td>\n",
       "      <td>-0.138431</td>\n",
       "      <td>0.105683</td>\n",
       "      <td>-0.042796</td>\n",
       "      <td>0.118205</td>\n",
       "      <td>1.000000</td>\n",
       "      <td>-0.017823</td>\n",
       "      <td>-0.224362</td>\n",
       "      <td>-0.036031</td>\n",
       "      <td>-0.112577</td>\n",
       "      <td>0.007932</td>\n",
       "      <td>-0.034219</td>\n",
       "      <td>-0.152948</td>\n",
       "    </tr>\n",
       "    <tr>\n",
       "      <th>Liveness</th>\n",
       "      <td>-0.069750</td>\n",
       "      <td>-0.009319</td>\n",
       "      <td>-0.216576</td>\n",
       "      <td>0.099539</td>\n",
       "      <td>0.172232</td>\n",
       "      <td>-0.010444</td>\n",
       "      <td>-0.017823</td>\n",
       "      <td>1.000000</td>\n",
       "      <td>0.017036</td>\n",
       "      <td>0.001519</td>\n",
       "      <td>0.137468</td>\n",
       "      <td>-0.001626</td>\n",
       "      <td>-0.004426</td>\n",
       "      <td>-0.043336</td>\n",
       "    </tr>\n",
       "    <tr>\n",
       "      <th>Loudness</th>\n",
       "      <td>0.077043</td>\n",
       "      <td>-0.572643</td>\n",
       "      <td>0.166066</td>\n",
       "      <td>0.067253</td>\n",
       "      <td>0.757071</td>\n",
       "      <td>-0.131981</td>\n",
       "      <td>-0.224362</td>\n",
       "      <td>0.017036</td>\n",
       "      <td>1.000000</td>\n",
       "      <td>-0.050848</td>\n",
       "      <td>-0.019178</td>\n",
       "      <td>0.146205</td>\n",
       "      <td>0.171806</td>\n",
       "      <td>0.219442</td>\n",
       "    </tr>\n",
       "    <tr>\n",
       "      <th>Mode</th>\n",
       "      <td>-0.019031</td>\n",
       "      <td>0.092203</td>\n",
       "      <td>-0.091423</td>\n",
       "      <td>-0.050914</td>\n",
       "      <td>-0.083141</td>\n",
       "      <td>0.120310</td>\n",
       "      <td>-0.036031</td>\n",
       "      <td>0.001519</td>\n",
       "      <td>-0.050848</td>\n",
       "      <td>1.000000</td>\n",
       "      <td>-0.117136</td>\n",
       "      <td>0.018553</td>\n",
       "      <td>-0.022952</td>\n",
       "      <td>-0.029318</td>\n",
       "    </tr>\n",
       "    <tr>\n",
       "      <th>Speechiness</th>\n",
       "      <td>-0.032319</td>\n",
       "      <td>-0.048950</td>\n",
       "      <td>0.200288</td>\n",
       "      <td>-0.109970</td>\n",
       "      <td>0.096183</td>\n",
       "      <td>-0.502438</td>\n",
       "      <td>-0.112577</td>\n",
       "      <td>0.137468</td>\n",
       "      <td>-0.019178</td>\n",
       "      <td>-0.117136</td>\n",
       "      <td>1.000000</td>\n",
       "      <td>-0.035314</td>\n",
       "      <td>0.034922</td>\n",
       "      <td>0.133831</td>\n",
       "    </tr>\n",
       "    <tr>\n",
       "      <th>Tempo</th>\n",
       "      <td>0.017065</td>\n",
       "      <td>-0.154225</td>\n",
       "      <td>-0.123616</td>\n",
       "      <td>0.015263</td>\n",
       "      <td>0.192297</td>\n",
       "      <td>0.035712</td>\n",
       "      <td>0.007932</td>\n",
       "      <td>-0.001626</td>\n",
       "      <td>0.146205</td>\n",
       "      <td>0.018553</td>\n",
       "      <td>-0.035314</td>\n",
       "      <td>1.000000</td>\n",
       "      <td>0.013453</td>\n",
       "      <td>0.056526</td>\n",
       "    </tr>\n",
       "    <tr>\n",
       "      <th>TimeSignature</th>\n",
       "      <td>0.017765</td>\n",
       "      <td>-0.195964</td>\n",
       "      <td>0.177599</td>\n",
       "      <td>0.030449</td>\n",
       "      <td>0.200323</td>\n",
       "      <td>-0.073798</td>\n",
       "      <td>-0.034219</td>\n",
       "      <td>-0.004426</td>\n",
       "      <td>0.171806</td>\n",
       "      <td>-0.022952</td>\n",
       "      <td>0.034922</td>\n",
       "      <td>0.013453</td>\n",
       "      <td>1.000000</td>\n",
       "      <td>0.128849</td>\n",
       "    </tr>\n",
       "    <tr>\n",
       "      <th>Valence</th>\n",
       "      <td>-0.005839</td>\n",
       "      <td>-0.191688</td>\n",
       "      <td>0.470675</td>\n",
       "      <td>-0.160839</td>\n",
       "      <td>0.338542</td>\n",
       "      <td>-0.059177</td>\n",
       "      <td>-0.152948</td>\n",
       "      <td>-0.043336</td>\n",
       "      <td>0.219442</td>\n",
       "      <td>-0.029318</td>\n",
       "      <td>0.133831</td>\n",
       "      <td>0.056526</td>\n",
       "      <td>0.128849</td>\n",
       "      <td>1.000000</td>\n",
       "    </tr>\n",
       "  </tbody>\n",
       "</table>\n",
       "</div>"
      ],
      "text/plain": [
       "                  Popularity_Type  Acousticness  Danceability  Duration  \\\n",
       "Popularity_Type          1.000000     -0.052349      0.031074  0.008887   \n",
       "Acousticness            -0.052349      1.000000     -0.218938 -0.149520   \n",
       "Danceability             0.031074     -0.218938      1.000000 -0.060863   \n",
       "Duration                 0.008887     -0.149520     -0.060863  1.000000   \n",
       "Energy                   0.037893     -0.691651      0.105557  0.082833   \n",
       "Explicit                -0.039797      0.174251     -0.273213  0.047615   \n",
       "Instrumentalness        -0.030834      0.022101     -0.138431  0.105683   \n",
       "Liveness                -0.069750     -0.009319     -0.216576  0.099539   \n",
       "Loudness                 0.077043     -0.572643      0.166066  0.067253   \n",
       "Mode                    -0.019031      0.092203     -0.091423 -0.050914   \n",
       "Speechiness             -0.032319     -0.048950      0.200288 -0.109970   \n",
       "Tempo                    0.017065     -0.154225     -0.123616  0.015263   \n",
       "TimeSignature            0.017765     -0.195964      0.177599  0.030449   \n",
       "Valence                 -0.005839     -0.191688      0.470675 -0.160839   \n",
       "\n",
       "                    Energy  Explicit  Instrumentalness  Liveness  Loudness  \\\n",
       "Popularity_Type   0.037893 -0.039797         -0.030834 -0.069750  0.077043   \n",
       "Acousticness     -0.691651  0.174251          0.022101 -0.009319 -0.572643   \n",
       "Danceability      0.105557 -0.273213         -0.138431 -0.216576  0.166066   \n",
       "Duration          0.082833  0.047615          0.105683  0.099539  0.067253   \n",
       "Energy            1.000000 -0.125014         -0.042796  0.172232  0.757071   \n",
       "Explicit         -0.125014  1.000000          0.118205 -0.010444 -0.131981   \n",
       "Instrumentalness -0.042796  0.118205          1.000000 -0.017823 -0.224362   \n",
       "Liveness          0.172232 -0.010444         -0.017823  1.000000  0.017036   \n",
       "Loudness          0.757071 -0.131981         -0.224362  0.017036  1.000000   \n",
       "Mode             -0.083141  0.120310         -0.036031  0.001519 -0.050848   \n",
       "Speechiness       0.096183 -0.502438         -0.112577  0.137468 -0.019178   \n",
       "Tempo             0.192297  0.035712          0.007932 -0.001626  0.146205   \n",
       "TimeSignature     0.200323 -0.073798         -0.034219 -0.004426  0.171806   \n",
       "Valence           0.338542 -0.059177         -0.152948 -0.043336  0.219442   \n",
       "\n",
       "                      Mode  Speechiness     Tempo  TimeSignature   Valence  \n",
       "Popularity_Type  -0.019031    -0.032319  0.017065       0.017765 -0.005839  \n",
       "Acousticness      0.092203    -0.048950 -0.154225      -0.195964 -0.191688  \n",
       "Danceability     -0.091423     0.200288 -0.123616       0.177599  0.470675  \n",
       "Duration         -0.050914    -0.109970  0.015263       0.030449 -0.160839  \n",
       "Energy           -0.083141     0.096183  0.192297       0.200323  0.338542  \n",
       "Explicit          0.120310    -0.502438  0.035712      -0.073798 -0.059177  \n",
       "Instrumentalness -0.036031    -0.112577  0.007932      -0.034219 -0.152948  \n",
       "Liveness          0.001519     0.137468 -0.001626      -0.004426 -0.043336  \n",
       "Loudness         -0.050848    -0.019178  0.146205       0.171806  0.219442  \n",
       "Mode              1.000000    -0.117136  0.018553      -0.022952 -0.029318  \n",
       "Speechiness      -0.117136     1.000000 -0.035314       0.034922  0.133831  \n",
       "Tempo             0.018553    -0.035314  1.000000       0.013453  0.056526  \n",
       "TimeSignature    -0.022952     0.034922  0.013453       1.000000  0.128849  \n",
       "Valence          -0.029318     0.133831  0.056526       0.128849  1.000000  "
      ]
     },
     "execution_count": 70,
     "metadata": {},
     "output_type": "execute_result"
    }
   ],
   "source": [
    "spotifydf.corr()"
   ]
  },
  {
   "cell_type": "code",
   "execution_count": 71,
   "id": "366a4e4c",
   "metadata": {
    "scrolled": true
   },
   "outputs": [
    {
     "data": {
      "application/javascript": "\n        if (window._pyforest_update_imports_cell) { window._pyforest_update_imports_cell('import seaborn as sns\\nfrom sklearn import metrics\\nimport matplotlib.pyplot as plt'); }\n    ",
      "text/plain": [
       "<IPython.core.display.Javascript object>"
      ]
     },
     "metadata": {},
     "output_type": "display_data"
    },
    {
     "data": {
      "image/png": "[encoded data removed]",
      "text/plain": [
       "<Figure size 432x288 with 2 Axes>"
      ]
     },
     "metadata": {
      "needs_background": "light"
     },
     "output_type": "display_data"
    }
   ],
   "source": [
    "corr = spotifydf.corr()\n",
    "sns.heatmap(corr);"
   ]
  },
  {
   "cell_type": "code",
   "execution_count": 72,
   "id": "9502a704",
   "metadata": {},
   "outputs": [
    {
     "data": {
      "text/html": [
       "<div>\n",
       "<style scoped>\n",
       "    .dataframe tbody tr th:only-of-type {\n",
       "        vertical-align: middle;\n",
       "    }\n",
       "\n",
       "    .dataframe tbody tr th {\n",
       "        vertical-align: top;\n",
       "    }\n",
       "\n",
       "    .dataframe thead th {\n",
       "        text-align: right;\n",
       "    }\n",
       "</style>\n",
       "<table border=\"1\" class=\"dataframe\">\n",
       "  <thead>\n",
       "    <tr style=\"text-align: right;\">\n",
       "      <th></th>\n",
       "      <th>Acousticness</th>\n",
       "      <th>Danceability</th>\n",
       "      <th>Duration</th>\n",
       "      <th>Energy</th>\n",
       "      <th>Explicit</th>\n",
       "      <th>Instrumentalness</th>\n",
       "      <th>Liveness</th>\n",
       "      <th>Loudness</th>\n",
       "      <th>Mode</th>\n",
       "      <th>Speechiness</th>\n",
       "      <th>Tempo</th>\n",
       "      <th>TimeSignature</th>\n",
       "      <th>Valence</th>\n",
       "    </tr>\n",
       "    <tr>\n",
       "      <th>Popularity_Type</th>\n",
       "      <th></th>\n",
       "      <th></th>\n",
       "      <th></th>\n",
       "      <th></th>\n",
       "      <th></th>\n",
       "      <th></th>\n",
       "      <th></th>\n",
       "      <th></th>\n",
       "      <th></th>\n",
       "      <th></th>\n",
       "      <th></th>\n",
       "      <th></th>\n",
       "      <th></th>\n",
       "    </tr>\n",
       "  </thead>\n",
       "  <tbody>\n",
       "    <tr>\n",
       "      <th>0</th>\n",
       "      <td>0.259774</td>\n",
       "      <td>0.572364</td>\n",
       "      <td>234700.118126</td>\n",
       "      <td>0.644745</td>\n",
       "      <td>0.795948</td>\n",
       "      <td>0.057658</td>\n",
       "      <td>0.258123</td>\n",
       "      <td>-7.894165</td>\n",
       "      <td>0.688632</td>\n",
       "      <td>0.113836</td>\n",
       "      <td>119.667912</td>\n",
       "      <td>3.917371</td>\n",
       "      <td>0.497796</td>\n",
       "    </tr>\n",
       "    <tr>\n",
       "      <th>1</th>\n",
       "      <td>0.203661</td>\n",
       "      <td>0.591230</td>\n",
       "      <td>237651.831764</td>\n",
       "      <td>0.676446</td>\n",
       "      <td>0.736556</td>\n",
       "      <td>0.036572</td>\n",
       "      <td>0.198161</td>\n",
       "      <td>-6.779031</td>\n",
       "      <td>0.656204</td>\n",
       "      <td>0.097929</td>\n",
       "      <td>121.568908</td>\n",
       "      <td>3.943189</td>\n",
       "      <td>0.492701</td>\n",
       "    </tr>\n",
       "  </tbody>\n",
       "</table>\n",
       "</div>"
      ],
      "text/plain": [
       "                 Acousticness  Danceability       Duration    Energy  \\\n",
       "Popularity_Type                                                        \n",
       "0                    0.259774      0.572364  234700.118126  0.644745   \n",
       "1                    0.203661      0.591230  237651.831764  0.676446   \n",
       "\n",
       "                 Explicit  Instrumentalness  Liveness  Loudness      Mode  \\\n",
       "Popularity_Type                                                             \n",
       "0                0.795948          0.057658  0.258123 -7.894165  0.688632   \n",
       "1                0.736556          0.036572  0.198161 -6.779031  0.656204   \n",
       "\n",
       "                 Speechiness       Tempo  TimeSignature   Valence  \n",
       "Popularity_Type                                                    \n",
       "0                   0.113836  119.667912       3.917371  0.497796  \n",
       "1                   0.097929  121.568908       3.943189  0.492701  "
      ]
     },
     "execution_count": 72,
     "metadata": {},
     "output_type": "execute_result"
    }
   ],
   "source": [
    "spotifydf_rf = spotifydf.iloc[:,3:]\n",
    "spotifydf_rf.groupby('Popularity_Type').mean()"
   ]
  },
  {
   "cell_type": "markdown",
   "id": "bee9d65b",
   "metadata": {},
   "source": [
    "## Machine Learning"
   ]
  },
  {
   "cell_type": "markdown",
   "id": "4c5f621c",
   "metadata": {},
   "source": [
    "#### Getting data ready for modeling"
   ]
  },
  {
   "cell_type": "code",
   "execution_count": 73,
   "id": "40164bda",
   "metadata": {},
   "outputs": [],
   "source": [
    "## Normalization of specific variables\n",
    "cols_to_norm = ['Tempo','Duration', 'Loudness','TimeSignature']\n",
    "spotifydf_rf[cols_to_norm] = spotifydf_rf[cols_to_norm].apply(lambda x: (x - x.min()) / (x.max() - x.min()))"
   ]
  },
  {
   "cell_type": "code",
   "execution_count": 74,
   "id": "6b5a0427",
   "metadata": {},
   "outputs": [],
   "source": [
    "spotifydf_rf = spotifydf_rf[['Popularity_Type','Loudness', 'Energy', 'Danceability', 'Liveness', 'Acousticness']]"
   ]
  },
  {
   "cell_type": "code",
   "execution_count": 75,
   "id": "c35313f8",
   "metadata": {},
   "outputs": [],
   "source": [
    "y = spotifydf_rf['Popularity_Type']\n",
    "X = spotifydf_rf.drop(columns=['Popularity_Type'])"
   ]
  },
  {
   "cell_type": "markdown",
   "id": "021dad4b",
   "metadata": {},
   "source": [
    "### Random Forest"
   ]
  },
  {
   "cell_type": "code",
   "execution_count": 76,
   "id": "73838642",
   "metadata": {},
   "outputs": [],
   "source": [
    "weights = {0:1.0, 1:2.0}"
   ]
  },
  {
   "cell_type": "code",
   "execution_count": 77,
   "id": "2f865eda",
   "metadata": {},
   "outputs": [],
   "source": [
    "SRF = RandomForestClassifier(n_estimators=100, random_state=0)\n",
    "#Create Stratified K-fold cross validation\n",
    "cv = RepeatedStratifiedKFold(n_splits=5, n_repeats=3, random_state=1)\n",
    "scoring = ('f1', 'recall', 'precision')\n",
    "#Evaluate SRF model\n",
    "scores = cross_validate(SRF, X, y, scoring=scoring, cv=cv)"
   ]
  },
  {
   "cell_type": "code",
   "execution_count": 78,
   "id": "7c796a95",
   "metadata": {},
   "outputs": [
    {
     "name": "stdout",
     "output_type": "stream",
     "text": [
      "Mean F1: 0.128\n",
      "Mean Recall: 0.071\n",
      "Mean Precision: 0.633\n"
     ]
    }
   ],
   "source": [
    "one_f1_score = mean(scores['test_f1'])\n",
    "one_recall_score = mean(scores['test_recall'])\n",
    "one_precision_score = mean(scores['test_precision'])\n",
    "\n",
    "print('Mean F1: %.3f' % one_f1_score)\n",
    "print('Mean Recall: %.3f' % one_recall_score)\n",
    "print('Mean Precision: %.3f' % one_precision_score)"
   ]
  },
  {
   "cell_type": "code",
   "execution_count": 79,
   "id": "3ab26929",
   "metadata": {},
   "outputs": [
    {
     "name": "stdout",
     "output_type": "stream",
     "text": [
      "              precision    recall  f1-score   support\n",
      "\n",
      "           0       0.92      1.00      0.96     27221\n",
      "           1       0.57      0.06      0.12      2390\n",
      "\n",
      "    accuracy                           0.92     29611\n",
      "   macro avg       0.75      0.53      0.54     29611\n",
      "weighted avg       0.90      0.92      0.89     29611\n",
      "\n"
     ]
    },
    {
     "data": {
      "application/javascript": "\n        if (window._pyforest_update_imports_cell) { window._pyforest_update_imports_cell('import seaborn as sns\\nfrom sklearn import metrics\\nimport matplotlib.pyplot as plt'); }\n    ",
      "text/plain": [
       "<IPython.core.display.Javascript object>"
      ]
     },
     "metadata": {},
     "output_type": "display_data"
    },
    {
     "data": {
      "application/javascript": "\n        if (window._pyforest_update_imports_cell) { window._pyforest_update_imports_cell('import seaborn as sns\\nfrom sklearn import metrics\\nimport matplotlib.pyplot as plt'); }\n    ",
      "text/plain": [
       "<IPython.core.display.Javascript object>"
      ]
     },
     "metadata": {},
     "output_type": "display_data"
    },
    {
     "data": {
      "application/javascript": "\n        if (window._pyforest_update_imports_cell) { window._pyforest_update_imports_cell('import seaborn as sns\\nfrom sklearn import metrics\\nimport matplotlib.pyplot as plt'); }\n    ",
      "text/plain": [
       "<IPython.core.display.Javascript object>"
      ]
     },
     "metadata": {},
     "output_type": "display_data"
    }
   ],
   "source": [
    "X_train, X_test, y_train, y_test = train_test_split(X, y, test_size=0.25, stratify=y)\n",
    "#Train SRF\n",
    "SRF.fit(X_train, y_train)\n",
    "#SRF prediction result\n",
    "y_pred = SRF.predict(X_test)\n",
    "print(classification_report(y_test, y_pred))\n",
    "rf_recall_score = metrics.recall_score(y_test, y_pred)\n",
    "rf_precision_score = metrics.precision_score(y_test, y_pred)\n",
    "rf_f1_score = metrics.f1_score(y_test, y_pred)"
   ]
  },
  {
   "cell_type": "code",
   "execution_count": 80,
   "id": "d12a6041",
   "metadata": {},
   "outputs": [
    {
     "data": {
      "application/javascript": "\n        if (window._pyforest_update_imports_cell) { window._pyforest_update_imports_cell('import seaborn as sns\\nfrom sklearn import metrics\\nimport matplotlib.pyplot as plt'); }\n    ",
      "text/plain": [
       "<IPython.core.display.Javascript object>"
      ]
     },
     "metadata": {},
     "output_type": "display_data"
    },
    {
     "data": {
      "application/javascript": "\n        if (window._pyforest_update_imports_cell) { window._pyforest_update_imports_cell('import seaborn as sns\\nfrom sklearn import metrics\\nimport matplotlib.pyplot as plt'); }\n    ",
      "text/plain": [
       "<IPython.core.display.Javascript object>"
      ]
     },
     "metadata": {},
     "output_type": "display_data"
    },
    {
     "data": {
      "image/png": "[encoded data removed]",
      "text/plain": [
       "<Figure size 432x288 with 2 Axes>"
      ]
     },
     "metadata": {
      "needs_background": "light"
     },
     "output_type": "display_data"
    }
   ],
   "source": [
    "#Create confusion matrix\n",
    "fig = plot_confusion_matrix(SRF, X_test, y_test, display_labels=['Not Popular', 'Popular'], cmap='Greens')\n",
    "plt.title('Standard Random Forest Confusion Matrix')\n",
    "plt.show()"
   ]
  },
  {
   "cell_type": "markdown",
   "id": "e60646a0",
   "metadata": {},
   "source": [
    "### Balanced Random Forest"
   ]
  },
  {
   "cell_type": "code",
   "execution_count": 81,
   "id": "a9d33eb7",
   "metadata": {},
   "outputs": [],
   "source": [
    "BRFC = BalancedRandomForestClassifier(n_estimators=100, random_state=2)\n",
    "#Create Stratified K-fold cross validation\n",
    "cv = RepeatedStratifiedKFold(n_splits=5, n_repeats=3, random_state=1)\n",
    "scoring = ('f1', 'recall', 'precision')\n",
    "#Evaluate BRFC model\n",
    "scores2 = cross_validate(BRFC, X, y, scoring=scoring, cv=cv)"
   ]
  },
  {
   "cell_type": "code",
   "execution_count": 82,
   "id": "715ce507",
   "metadata": {},
   "outputs": [
    {
     "name": "stdout",
     "output_type": "stream",
     "text": [
      "Mean F1: 0.190\n",
      "Mean Recall: 0.633\n",
      "Mean Precision: 0.112\n"
     ]
    }
   ],
   "source": [
    "two_f1_score = mean(scores2['test_f1'])\n",
    "two_recall_score = mean(scores2['test_recall'])\n",
    "two_precision_score = mean(scores2['test_precision'])\n",
    "\n",
    "print('Mean F1: %.3f' % two_f1_score)\n",
    "print('Mean Recall: %.3f' % two_recall_score)\n",
    "print('Mean Precision: %.3f' % two_precision_score)"
   ]
  },
  {
   "cell_type": "code",
   "execution_count": 83,
   "id": "df72a365",
   "metadata": {},
   "outputs": [
    {
     "name": "stdout",
     "output_type": "stream",
     "text": [
      "              precision    recall  f1-score   support\n",
      "\n",
      "           0       0.94      0.56      0.70     27221\n",
      "           1       0.11      0.63      0.19      2390\n",
      "\n",
      "    accuracy                           0.56     29611\n",
      "   macro avg       0.53      0.59      0.44     29611\n",
      "weighted avg       0.88      0.56      0.66     29611\n",
      "\n"
     ]
    },
    {
     "data": {
      "application/javascript": "\n        if (window._pyforest_update_imports_cell) { window._pyforest_update_imports_cell('import seaborn as sns\\nfrom sklearn import metrics\\nimport matplotlib.pyplot as plt'); }\n    ",
      "text/plain": [
       "<IPython.core.display.Javascript object>"
      ]
     },
     "metadata": {},
     "output_type": "display_data"
    },
    {
     "data": {
      "application/javascript": "\n        if (window._pyforest_update_imports_cell) { window._pyforest_update_imports_cell('import seaborn as sns\\nfrom sklearn import metrics\\nimport matplotlib.pyplot as plt'); }\n    ",
      "text/plain": [
       "<IPython.core.display.Javascript object>"
      ]
     },
     "metadata": {},
     "output_type": "display_data"
    },
    {
     "data": {
      "application/javascript": "\n        if (window._pyforest_update_imports_cell) { window._pyforest_update_imports_cell('import seaborn as sns\\nfrom sklearn import metrics\\nimport matplotlib.pyplot as plt'); }\n    ",
      "text/plain": [
       "<IPython.core.display.Javascript object>"
      ]
     },
     "metadata": {},
     "output_type": "display_data"
    }
   ],
   "source": [
    "X_train, X_test, y_train, y_test = train_test_split(X, y, test_size=0.25, stratify=y)\n",
    "#Train BRFC\n",
    "BRFC.fit(X_train, y_train)\n",
    "#BRFC prediction result\n",
    "y_pred = BRFC.predict(X_test)\n",
    "print(classification_report(y_test, y_pred))\n",
    "brf_recall_score = metrics.recall_score(y_test, y_pred)\n",
    "brf_precision_score = metrics.precision_score(y_test, y_pred)\n",
    "brf_f1_score = metrics.f1_score(y_test, y_pred)"
   ]
  },
  {
   "cell_type": "code",
   "execution_count": 84,
   "id": "a6482d77",
   "metadata": {},
   "outputs": [
    {
     "data": {
      "application/javascript": "\n        if (window._pyforest_update_imports_cell) { window._pyforest_update_imports_cell('import seaborn as sns\\nfrom sklearn import metrics\\nimport matplotlib.pyplot as plt'); }\n    ",
      "text/plain": [
       "<IPython.core.display.Javascript object>"
      ]
     },
     "metadata": {},
     "output_type": "display_data"
    },
    {
     "data": {
      "application/javascript": "\n        if (window._pyforest_update_imports_cell) { window._pyforest_update_imports_cell('import seaborn as sns\\nfrom sklearn import metrics\\nimport matplotlib.pyplot as plt'); }\n    ",
      "text/plain": [
       "<IPython.core.display.Javascript object>"
      ]
     },
     "metadata": {},
     "output_type": "display_data"
    },
    {
     "data": {
      "image/png": "[encoded data removed]",
      "text/plain": [
       "<Figure size 432x288 with 2 Axes>"
      ]
     },
     "metadata": {
      "needs_background": "light"
     },
     "output_type": "display_data"
    }
   ],
   "source": [
    "#Create confusion matrix\n",
    "fig = plot_confusion_matrix(BRFC, X_test, y_test, display_labels=['Not Popular', 'Popular'], cmap='Greens')\n",
    "plt.title('Balanced Random Forest Confusion Matrix')\n",
    "plt.show()"
   ]
  },
  {
   "cell_type": "markdown",
   "id": "69e2cae7",
   "metadata": {},
   "source": [
    "### Random Forest/SMOTE"
   ]
  },
  {
   "cell_type": "code",
   "execution_count": 85,
   "id": "8b26f2d9",
   "metadata": {},
   "outputs": [],
   "source": [
    "from imblearn.over_sampling import SMOTE\n",
    "\n",
    "#Use SMOTE to oversample the minority class\n",
    "oversample = SMOTE()\n",
    "over_X, over_y = oversample.fit_resample(X, y)\n",
    "over_X_train, over_X_test, over_y_train, over_y_test = train_test_split(over_X, over_y, test_size=0.25, stratify=over_y)"
   ]
  },
  {
   "cell_type": "code",
   "execution_count": 86,
   "id": "6f9e7746",
   "metadata": {},
   "outputs": [],
   "source": [
    "#Build SMOTE SRF model\n",
    "SMOTE_SRF = RandomForestClassifier(n_estimators=100, random_state=0)\n",
    "#Create Stratified K-fold cross validation\n",
    "cv = RepeatedStratifiedKFold(n_splits=5, n_repeats=3, random_state=1)\n",
    "scoring = ('f1', 'recall', 'precision')\n",
    "scores3 = cross_validate(SMOTE_SRF, over_X, over_y, scoring=scoring, cv=cv)"
   ]
  },
  {
   "cell_type": "code",
   "execution_count": 87,
   "id": "4026a068",
   "metadata": {},
   "outputs": [
    {
     "name": "stdout",
     "output_type": "stream",
     "text": [
      "Mean F1: 0.902\n",
      "Mean Recall: 0.917\n",
      "Mean Precision: 0.886\n"
     ]
    }
   ],
   "source": [
    "three_f1_score = mean(scores3['test_f1'])\n",
    "three_recall_score = mean(scores3['test_recall'])\n",
    "three_precision_score = mean(scores3['test_precision'])\n",
    "\n",
    "print('Mean F1: %.3f' % three_f1_score)\n",
    "print('Mean Recall: %.3f' % three_recall_score)\n",
    "print('Mean Precision: %.3f' % three_precision_score)"
   ]
  },
  {
   "cell_type": "code",
   "execution_count": 88,
   "id": "cb07e2ae",
   "metadata": {},
   "outputs": [
    {
     "name": "stdout",
     "output_type": "stream",
     "text": [
      "              precision    recall  f1-score   support\n",
      "\n",
      "           0       1.00      0.97      0.98     27221\n",
      "           1       0.72      0.96      0.82      2390\n",
      "\n",
      "    accuracy                           0.97     29611\n",
      "   macro avg       0.86      0.96      0.90     29611\n",
      "weighted avg       0.97      0.97      0.97     29611\n",
      "\n"
     ]
    },
    {
     "data": {
      "application/javascript": "\n        if (window._pyforest_update_imports_cell) { window._pyforest_update_imports_cell('import seaborn as sns\\nfrom sklearn import metrics\\nimport matplotlib.pyplot as plt'); }\n    ",
      "text/plain": [
       "<IPython.core.display.Javascript object>"
      ]
     },
     "metadata": {},
     "output_type": "display_data"
    },
    {
     "data": {
      "application/javascript": "\n        if (window._pyforest_update_imports_cell) { window._pyforest_update_imports_cell('import seaborn as sns\\nfrom sklearn import metrics\\nimport matplotlib.pyplot as plt'); }\n    ",
      "text/plain": [
       "<IPython.core.display.Javascript object>"
      ]
     },
     "metadata": {},
     "output_type": "display_data"
    },
    {
     "data": {
      "application/javascript": "\n        if (window._pyforest_update_imports_cell) { window._pyforest_update_imports_cell('import seaborn as sns\\nfrom sklearn import metrics\\nimport matplotlib.pyplot as plt'); }\n    ",
      "text/plain": [
       "<IPython.core.display.Javascript object>"
      ]
     },
     "metadata": {},
     "output_type": "display_data"
    }
   ],
   "source": [
    "X_train, X_test, y_train, y_test = train_test_split(X, y, test_size=0.25, stratify=y)\n",
    "#Train SMOTE SRF\n",
    "SMOTE_SRF.fit(over_X_train, over_y_train)\n",
    "#SMOTE SRF prediction result\n",
    "y_pred = SMOTE_SRF.predict(X_test)\n",
    "print(classification_report(y_test, y_pred))\n",
    "smrf_recall_score = metrics.recall_score(y_test, y_pred)\n",
    "smrf_precision_score = metrics.precision_score(y_test, y_pred)\n",
    "smrf_f1_score = metrics.f1_score(y_test, y_pred)"
   ]
  },
  {
   "cell_type": "code",
   "execution_count": 89,
   "id": "5dc986f6",
   "metadata": {},
   "outputs": [
    {
     "data": {
      "application/javascript": "\n        if (window._pyforest_update_imports_cell) { window._pyforest_update_imports_cell('import seaborn as sns\\nfrom sklearn import metrics\\nimport matplotlib.pyplot as plt'); }\n    ",
      "text/plain": [
       "<IPython.core.display.Javascript object>"
      ]
     },
     "metadata": {},
     "output_type": "display_data"
    },
    {
     "data": {
      "application/javascript": "\n        if (window._pyforest_update_imports_cell) { window._pyforest_update_imports_cell('import seaborn as sns\\nfrom sklearn import metrics\\nimport matplotlib.pyplot as plt'); }\n    ",
      "text/plain": [
       "<IPython.core.display.Javascript object>"
      ]
     },
     "metadata": {},
     "output_type": "display_data"
    },
    {
     "data": {
      "image/png": "[encoded data removed]",
      "text/plain": [
       "<Figure size 432x288 with 2 Axes>"
      ]
     },
     "metadata": {
      "needs_background": "light"
     },
     "output_type": "display_data"
    }
   ],
   "source": [
    "#Create confusion matrix\n",
    "fig = plot_confusion_matrix(SMOTE_SRF, X_test, y_test, display_labels=['Not Popular', 'Popular'], cmap='Greens')\n",
    "plt.title('SMOTE + Standard Random Forest Confusion Matrix')\n",
    "plt.show()"
   ]
  },
  {
   "cell_type": "markdown",
   "id": "e265dee9",
   "metadata": {},
   "source": [
    "### XGBoost/SMOTE"
   ]
  },
  {
   "cell_type": "code",
   "execution_count": 90,
   "id": "e1f6b14a",
   "metadata": {},
   "outputs": [
    {
     "data": {
      "text/plain": [
       "11.391922996442771"
      ]
     },
     "execution_count": 90,
     "metadata": {},
     "output_type": "execute_result"
    }
   ],
   "source": [
    "xgboost_weight = (sum(spotifydf['Popularity_Type'] == 0)/sum(spotifydf['Popularity_Type'] == 1))\n",
    "xgboost_weight"
   ]
  },
  {
   "cell_type": "code",
   "execution_count": 91,
   "id": "5d7ce148",
   "metadata": {},
   "outputs": [],
   "source": [
    "from imblearn.over_sampling import SMOTE\n",
    "\n",
    "#Use SMOTE to oversample the minority class\n",
    "oversample = SMOTE()\n",
    "over_X, over_y = oversample.fit_resample(X, y)\n",
    "over_X_train, over_X_test, over_y_train, over_y_test = train_test_split(over_X, over_y, test_size=0.25, stratify=over_y)"
   ]
  },
  {
   "cell_type": "code",
   "execution_count": 92,
   "id": "cffc5f20",
   "metadata": {},
   "outputs": [],
   "source": [
    "#Build SMOTE SRF model\n",
    "SMOTE_SXG = xgb_model = xgb.XGBClassifier(objective=\"binary:logistic\", scale_pos_weight = xgboost_weight, random_state=42)\n",
    "#Create Stratified K-fold cross validation\n",
    "cv = RepeatedStratifiedKFold(n_splits=5, n_repeats=3, random_state=1)\n",
    "scoring = ('f1', 'recall', 'precision')\n",
    "scores4 = cross_validate(SMOTE_SXG, over_X, over_y, scoring=scoring, cv=cv)"
   ]
  },
  {
   "cell_type": "code",
   "execution_count": 93,
   "id": "e903967c",
   "metadata": {},
   "outputs": [
    {
     "name": "stdout",
     "output_type": "stream",
     "text": [
      "Mean F1: 0.708\n",
      "Mean Recall: 0.991\n",
      "Mean Precision: 0.551\n"
     ]
    }
   ],
   "source": [
    "four_f1_score = mean(scores4['test_f1'])\n",
    "four_recall_score = mean(scores4['test_recall'])\n",
    "four_precision_score = mean(scores4['test_precision'])\n",
    "\n",
    "print('Mean F1: %.3f' % four_f1_score)\n",
    "print('Mean Recall: %.3f' % four_recall_score)\n",
    "print('Mean Precision: %.3f' % four_precision_score)"
   ]
  },
  {
   "cell_type": "code",
   "execution_count": 94,
   "id": "fa30cf4a",
   "metadata": {},
   "outputs": [
    {
     "name": "stdout",
     "output_type": "stream",
     "text": [
      "              precision    recall  f1-score   support\n",
      "\n",
      "           0       0.99      0.20      0.33     27221\n",
      "           1       0.10      0.98      0.18      2390\n",
      "\n",
      "    accuracy                           0.26     29611\n",
      "   macro avg       0.54      0.59      0.25     29611\n",
      "weighted avg       0.92      0.26      0.32     29611\n",
      "\n"
     ]
    },
    {
     "data": {
      "application/javascript": "\n        if (window._pyforest_update_imports_cell) { window._pyforest_update_imports_cell('import seaborn as sns\\nfrom sklearn import metrics\\nimport matplotlib.pyplot as plt'); }\n    ",
      "text/plain": [
       "<IPython.core.display.Javascript object>"
      ]
     },
     "metadata": {},
     "output_type": "display_data"
    },
    {
     "data": {
      "application/javascript": "\n        if (window._pyforest_update_imports_cell) { window._pyforest_update_imports_cell('import seaborn as sns\\nfrom sklearn import metrics\\nimport matplotlib.pyplot as plt'); }\n    ",
      "text/plain": [
       "<IPython.core.display.Javascript object>"
      ]
     },
     "metadata": {},
     "output_type": "display_data"
    },
    {
     "data": {
      "application/javascript": "\n        if (window._pyforest_update_imports_cell) { window._pyforest_update_imports_cell('import seaborn as sns\\nfrom sklearn import metrics\\nimport matplotlib.pyplot as plt'); }\n    ",
      "text/plain": [
       "<IPython.core.display.Javascript object>"
      ]
     },
     "metadata": {},
     "output_type": "display_data"
    }
   ],
   "source": [
    "X_train, X_test, y_train, y_test = train_test_split(X, y, test_size=0.25, stratify=y)\n",
    "#Train SMOTE XG\n",
    "SMOTE_SXG.fit(over_X_train, over_y_train)\n",
    "#SMOTE XG prediction result\n",
    "y_pred = SMOTE_SXG.predict(X_test)\n",
    "print(classification_report(y_test, y_pred))\n",
    "smxg_recall_score = metrics.recall_score(y_test, y_pred)\n",
    "smxg_precision_score = metrics.precision_score(y_test, y_pred)\n",
    "smxg_f1_score = metrics.f1_score(y_test, y_pred)"
   ]
  },
  {
   "cell_type": "code",
   "execution_count": 95,
   "id": "4adb4ffe",
   "metadata": {},
   "outputs": [
    {
     "data": {
      "application/javascript": "\n        if (window._pyforest_update_imports_cell) { window._pyforest_update_imports_cell('import seaborn as sns\\nfrom sklearn import metrics\\nimport matplotlib.pyplot as plt'); }\n    ",
      "text/plain": [
       "<IPython.core.display.Javascript object>"
      ]
     },
     "metadata": {},
     "output_type": "display_data"
    },
    {
     "data": {
      "application/javascript": "\n        if (window._pyforest_update_imports_cell) { window._pyforest_update_imports_cell('import seaborn as sns\\nfrom sklearn import metrics\\nimport matplotlib.pyplot as plt'); }\n    ",
      "text/plain": [
       "<IPython.core.display.Javascript object>"
      ]
     },
     "metadata": {},
     "output_type": "display_data"
    },
    {
     "data": {
      "image/png": "[encoded data removed]",
      "text/plain": [
       "<Figure size 432x288 with 2 Axes>"
      ]
     },
     "metadata": {
      "needs_background": "light"
     },
     "output_type": "display_data"
    }
   ],
   "source": [
    "#Create confusion matrix\n",
    "fig = plot_confusion_matrix(SMOTE_SXG, X_test, y_test, display_labels=['Not Popular', 'Popular'], cmap='Greens')\n",
    "plt.title('SMOTE + XGBoost Confusion Matrix')\n",
    "plt.show()"
   ]
  },
  {
   "cell_type": "markdown",
   "id": "17605499",
   "metadata": {},
   "source": [
    "### Ensemble Model"
   ]
  },
  {
   "cell_type": "code",
   "execution_count": 96,
   "id": "4eeb7507",
   "metadata": {},
   "outputs": [],
   "source": [
    "from sklearn.ensemble import VotingClassifier\n",
    "estimators = []\n",
    "estimators.append(('smxg', SMOTE_SXG))\n",
    "estimators.append(('smrf', SMOTE_SRF))\n",
    "ensemble_model = VotingClassifier(estimators, voting='soft', weights=[0.40,0.60])\n",
    "ensemble_model.fit(over_X_train, over_y_train)\n",
    "\n",
    "# Predicting the Test set results\n",
    "y_pred = ensemble_model.predict(X_test)"
   ]
  },
  {
   "cell_type": "code",
   "execution_count": 97,
   "id": "e3d7eb21",
   "metadata": {},
   "outputs": [
    {
     "name": "stdout",
     "output_type": "stream",
     "text": [
      "              precision    recall  f1-score   support\n",
      "\n",
      "           0       1.00      0.86      0.92     27221\n",
      "           1       0.38      0.98      0.54      2390\n",
      "\n",
      "    accuracy                           0.87     29611\n",
      "   macro avg       0.69      0.92      0.73     29611\n",
      "weighted avg       0.95      0.87      0.89     29611\n",
      "\n",
      "\n"
     ]
    },
    {
     "data": {
      "application/javascript": "\n        if (window._pyforest_update_imports_cell) { window._pyforest_update_imports_cell('import seaborn as sns\\nfrom sklearn import metrics\\nimport matplotlib.pyplot as plt'); }\n    ",
      "text/plain": [
       "<IPython.core.display.Javascript object>"
      ]
     },
     "metadata": {},
     "output_type": "display_data"
    },
    {
     "name": "stdout",
     "output_type": "stream",
     "text": [
      "Ensemble Accuracy Score: 86.74 %\n"
     ]
    },
    {
     "data": {
      "application/javascript": "\n        if (window._pyforest_update_imports_cell) { window._pyforest_update_imports_cell('import seaborn as sns\\nfrom sklearn import metrics\\nimport matplotlib.pyplot as plt'); }\n    ",
      "text/plain": [
       "<IPython.core.display.Javascript object>"
      ]
     },
     "metadata": {},
     "output_type": "display_data"
    },
    {
     "data": {
      "application/javascript": "\n        if (window._pyforest_update_imports_cell) { window._pyforest_update_imports_cell('import seaborn as sns\\nfrom sklearn import metrics\\nimport matplotlib.pyplot as plt'); }\n    ",
      "text/plain": [
       "<IPython.core.display.Javascript object>"
      ]
     },
     "metadata": {},
     "output_type": "display_data"
    },
    {
     "data": {
      "application/javascript": "\n        if (window._pyforest_update_imports_cell) { window._pyforest_update_imports_cell('import seaborn as sns\\nfrom sklearn import metrics\\nimport matplotlib.pyplot as plt'); }\n    ",
      "text/plain": [
       "<IPython.core.display.Javascript object>"
      ]
     },
     "metadata": {},
     "output_type": "display_data"
    }
   ],
   "source": [
    "print(classification_report(y_test, y_pred))\n",
    "print()\n",
    "print(\"Ensemble Accuracy Score:\",\"{:,.2f}\".format(metrics.accuracy_score(y_test, y_pred)*100),\"%\")\n",
    "ens_recall_score = metrics.recall_score(y_test, y_pred)\n",
    "ens_precision_score = metrics.precision_score(y_test, y_pred)\n",
    "ens_f1_score = metrics.f1_score(y_test, y_pred)"
   ]
  },
  {
   "cell_type": "markdown",
   "id": "19440d28",
   "metadata": {},
   "source": [
    "## Model Matrix"
   ]
  },
  {
   "cell_type": "code",
   "execution_count": 98,
   "id": "f60fcab5",
   "metadata": {},
   "outputs": [],
   "source": [
    "def highlight_max(s):\n",
    "    is_max = s == s.max()\n",
    "    return ['background-color: blue' if v else '' for v in is_max]\n",
    "def highlight_mins(s):\n",
    "    is_min = s == s.min()\n",
    "    return ['background-color: red' if v else '' for v in is_min]"
   ]
  },
  {
   "cell_type": "code",
   "execution_count": 99,
   "id": "5c794d19",
   "metadata": {},
   "outputs": [
    {
     "data": {
      "text/html": [
       "<style  type=\"text/css\" >\n",
       "#T_ef84b_row0_col2,#T_ef84b_row1_col3,#T_ef84b_row2_col2{\n",
       "            background-color:  blue;\n",
       "        }</style><table id=\"T_ef84b_\" ><caption>Model Matrix</caption><thead>    <tr>        <th class=\"blank level0\" ></th>        <th class=\"col_heading level0 col0\" >Random Forest</th>        <th class=\"col_heading level0 col1\" >Balanced Random Forest</th>        <th class=\"col_heading level0 col2\" >Smote RF</th>        <th class=\"col_heading level0 col3\" >Smote XGBoost</th>        <th class=\"col_heading level0 col4\" >Ensemble Model</th>    </tr></thead><tbody>\n",
       "                <tr>\n",
       "                        <th id=\"T_ef84b_level0_row0\" class=\"row_heading level0 row0\" >Precision</th>\n",
       "                        <td id=\"T_ef84b_row0_col0\" class=\"data row0 col0\" >63.33%</td>\n",
       "                        <td id=\"T_ef84b_row0_col1\" class=\"data row0 col1\" >11.20%</td>\n",
       "                        <td id=\"T_ef84b_row0_col2\" class=\"data row0 col2\" >88.65%</td>\n",
       "                        <td id=\"T_ef84b_row0_col3\" class=\"data row0 col3\" >55.12%</td>\n",
       "                        <td id=\"T_ef84b_row0_col4\" class=\"data row0 col4\" >37.66%</td>\n",
       "            </tr>\n",
       "            <tr>\n",
       "                        <th id=\"T_ef84b_level0_row1\" class=\"row_heading level0 row1\" >Recall</th>\n",
       "                        <td id=\"T_ef84b_row1_col0\" class=\"data row1 col0\" >7.14%</td>\n",
       "                        <td id=\"T_ef84b_row1_col1\" class=\"data row1 col1\" >63.28%</td>\n",
       "                        <td id=\"T_ef84b_row1_col2\" class=\"data row1 col2\" >91.71%</td>\n",
       "                        <td id=\"T_ef84b_row1_col3\" class=\"data row1 col3\" >99.09%</td>\n",
       "                        <td id=\"T_ef84b_row1_col4\" class=\"data row1 col4\" >98.16%</td>\n",
       "            </tr>\n",
       "            <tr>\n",
       "                        <th id=\"T_ef84b_level0_row2\" class=\"row_heading level0 row2\" >F1 Score</th>\n",
       "                        <td id=\"T_ef84b_row2_col0\" class=\"data row2 col0\" >12.83%</td>\n",
       "                        <td id=\"T_ef84b_row2_col1\" class=\"data row2 col1\" >19.04%</td>\n",
       "                        <td id=\"T_ef84b_row2_col2\" class=\"data row2 col2\" >90.15%</td>\n",
       "                        <td id=\"T_ef84b_row2_col3\" class=\"data row2 col3\" >70.84%</td>\n",
       "                        <td id=\"T_ef84b_row2_col4\" class=\"data row2 col4\" >54.44%</td>\n",
       "            </tr>\n",
       "    </tbody></table>"
      ],
      "text/plain": [
       "<pandas.io.formats.style.Styler at 0x1da03aa65b0>"
      ]
     },
     "execution_count": 99,
     "metadata": {},
     "output_type": "execute_result"
    }
   ],
   "source": [
    "# create a dictionary that stores all the accuracy information\n",
    "accuracy_dict = {}\n",
    "for m in [\"one\",\"two\", \"three\", 'four', \"ens\"]:\n",
    "    accuracy_dict[m] = {}\n",
    "    for f in [\"precision\"]:\n",
    "        exec('accuracy_dict[\"{}\"][\"{}\"] = {}_{}_score'.format(m, f, m, f))\n",
    "    for f in [\"recall\"]:\n",
    "        exec('accuracy_dict[\"{}\"][\"{}\"] = {}_{}_score'.format(m, f, m, f))\n",
    "    for f in [\"f1\"]:\n",
    "        exec('accuracy_dict[\"{}\"][\"{}\"] = {}_{}_score'.format(m, f, m, f))\n",
    "        \n",
    "#Accuracy Matrix\n",
    "model_matrix=pd.DataFrame(accuracy_dict).rename(columns={\"one\":\"Random Forest\", \n",
    "                                           \"two\":\"Balanced Random Forest\",\n",
    "                                                       \"three\": \"Smote RF\",\n",
    "                                                        \"four\": \"Smote XGBoost\",\n",
    "                                                        'ens':'Ensemble Model'}, \n",
    "                                   index={\"precision\":\"Precision\",\n",
    "                                         \"recall\":\"Recall\",\n",
    "                                        \"f1\":\"F1 Score\"})\n",
    "model_matrix = model_matrix.applymap(lambda x: f\"{x*100:.2f}%\").style.set_caption(\"Model Matrix\").apply(highlight_max, axis=1)\n",
    "model_matrix"
   ]
  },
  {
   "cell_type": "code",
   "execution_count": null,
   "id": "947e7fa5",
   "metadata": {},
   "outputs": [],
   "source": []
  }
 ],
 "metadata": {
  "interpreter": {
   "hash": "7cb0b22e99bf12244e73905db9997166c9cd7dd3da0cb916400675d967e1fa08"
  },
  "kernelspec": {
   "display_name": "Python 3.8.8 ('base')",
   "language": "python",
   "name": "python3"
  },
  "language_info": {
   "codemirror_mode": {
    "name": "ipython",
    "version": 3
   },
   "file_extension": ".py",
   "mimetype": "text/x-python",
   "name": "python",
   "nbconvert_exporter": "python",
   "pygments_lexer": "ipython3",
   "version": "3.8.8"
  }
 },
 "nbformat": 4,
 "nbformat_minor": 5
}
